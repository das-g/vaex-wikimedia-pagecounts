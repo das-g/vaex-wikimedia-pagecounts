{
 "cells": [
  {
   "cell_type": "code",
   "execution_count": 1,
   "metadata": {},
   "outputs": [],
   "source": [
    "import vaex"
   ]
  },
  {
   "cell_type": "markdown",
   "metadata": {},
   "source": [
    "Download one of the \"-totals\" files from <https://dumps.wikimedia.org/other/pagecounts-ez/merged/>.\n",
    "\n",
    "(See <https://dumps.wikimedia.org/other/pagecounts-ez/> for rudimentary documentation.)"
   ]
  },
  {
   "cell_type": "code",
   "execution_count": 2,
   "metadata": {},
   "outputs": [],
   "source": [
    "month = '2019-12'\n",
    "filename_base = f'pagecounts-{month}-views-ge-5-totals'\n",
    "download_filename = f'{filename_base}.bz2'"
   ]
  },
  {
   "cell_type": "code",
   "execution_count": 3,
   "metadata": {},
   "outputs": [
    {
     "name": "stdout",
     "output_type": "stream",
     "text": [
      "--2020-01-21 14:24:36--  https://dumps.wikimedia.org/other/pagecounts-ez/merged/pagecounts-2019-12-views-ge-5-totals.bz2\n",
      "Resolving dumps.wikimedia.org (dumps.wikimedia.org)... 208.80.154.7, 2620:0:861:1:208:80:154:7\n",
      "Connecting to dumps.wikimedia.org (dumps.wikimedia.org)|208.80.154.7|:443... connected.\n",
      "HTTP request sent, awaiting response... 200 OK\n",
      "Length: 554304140 (529M) [application/octet-stream]\n",
      "Saving to: ‘pagecounts-2019-12-views-ge-5-totals.bz2’\n",
      "\n",
      "pagecounts-2019-12- 100%[===================>] 528.62M   438KB/s    in 16m 26s \n",
      "\n",
      "2020-01-21 14:41:02 (549 KB/s) - ‘pagecounts-2019-12-views-ge-5-totals.bz2’ saved [554304140/554304140]\n",
      "\n"
     ]
    }
   ],
   "source": [
    "!wget https://dumps.wikimedia.org/other/pagecounts-ez/merged/{download_filename}"
   ]
  },
  {
   "cell_type": "markdown",
   "metadata": {},
   "source": [
    "The bzip2-compressed text file consists of lines (rows) with space-separated fields (columns). We have these 3 columns:"
   ]
  },
  {
   "cell_type": "code",
   "execution_count": 4,
   "metadata": {},
   "outputs": [],
   "source": [
    "column_names = ['wiki code', 'article title', 'monthly total']"
   ]
  },
  {
   "cell_type": "markdown",
   "metadata": {},
   "source": [
    "In order to make use of vaex' \"out of core\" functionality\n",
    "(i.e., **not** loading the complete data into RAM),\n",
    "[`vaex.open(...)`](https://vaex.readthedocs.io/en/latest/api.html#vaex.open) has to be used.\n",
    "So do **not** use [`vaex.from_csv(...)`](https://vaex.readthedocs.io/en/latest/api.html#vaex.from_csv)\n",
    "or [`vaex.from_ascii(...)`](https://vaex.readthedocs.io/en/latest/api.html#vaex.from_ascii)\n",
    "as they would (try to) load all data into RAM.\n",
    "(`vaex.open(...)` [seems to call `from_csv(...)`](https://github.com/vaexio/vaex/blob/core-v1.4.0/packages/vaex-core/vaex/__init__.py#L207),\n",
    "but probably with special arguments to avoid in-memory caching?)\n",
    "\n",
    "However, `vaex.open(...)` requires specific file name extensions to identify the data format used.\n",
    "For character-separated values, [it's `.csv` or `.csv.bz2`](https://github.com/vaexio/vaex/blob/core-v1.4.0/packages/vaex-core/vaex/__init__.py#L206).\n",
    "bzip2-decompression is handled by vaex automatically.\n",
    "\n",
    "So for `vaex.open(...)` to correctly recognize the file, we have to rename it."
   ]
  },
  {
   "cell_type": "code",
   "execution_count": 5,
   "metadata": {},
   "outputs": [],
   "source": [
    "import_filename = f'{filename_base}.csv.bz2'"
   ]
  },
  {
   "cell_type": "code",
   "execution_count": 6,
   "metadata": {},
   "outputs": [],
   "source": [
    "!mv {download_filename} {import_filename}"
   ]
  },
  {
   "cell_type": "markdown",
   "metadata": {},
   "source": [
    "The default seperator for CSV files is `','`, so we have to override it.\n",
    "Other than in `vaex.from_ascii(...)`, the argument for that is called `sep` rather than `seperator`.\n",
    "(It's actually passed on to [pandas' `read_csv(...)`](https://pandas.pydata.org/pandas-docs/stable/reference/api/pandas.read_csv.html#pandas.read_csv).)\n",
    "\n",
    "The data contains no header row,\n",
    "so we pass the column names as an argument.\n",
    "This implicitly disables the data first line of data being considered\n",
    "to be a header row rather than payload content.\n",
    "\n",
    "By setting the `convert` flag argument, we tell vaex\n",
    "to create a hdf5 file with the content from the opened file.\n",
    "This will speed up both\n",
    "out-of-core operations\n",
    "as well as\n",
    "subsequent `vaex.open(...)` calls on the same file."
   ]
  },
  {
   "cell_type": "code",
   "execution_count": 7,
   "metadata": {},
   "outputs": [],
   "source": [
    "df = vaex.open(\n",
    "    import_filename,\n",
    "    sep=' ',\n",
    "    names=column_names,\n",
    "    convert=True,\n",
    ")"
   ]
  },
  {
   "cell_type": "markdown",
   "metadata": {},
   "source": [
    "`z` is for Wikipedia"
   ]
  },
  {
   "cell_type": "code",
   "execution_count": 8,
   "metadata": {},
   "outputs": [
    {
     "data": {
      "text/plain": [
       "Expression = monthly_total\n",
       "Length: 1 dtype: int64 (column)\n",
       "-------------------------------\n",
       "0  28965"
      ]
     },
     "execution_count": 8,
     "metadata": {},
     "output_type": "execute_result"
    }
   ],
   "source": [
    "lang = 'en'\n",
    "article_title = 'Neuschwanstein_Castle'\n",
    "\n",
    "df.filter(df.wiki_code==f'{lang}.z').filter(df.article_title==article_title).monthly_total"
   ]
  }
 ],
 "metadata": {
  "kernelspec": {
   "display_name": "Python 3",
   "language": "python",
   "name": "python3"
  },
  "language_info": {
   "codemirror_mode": {
    "name": "ipython",
    "version": 3
   },
   "file_extension": ".py",
   "mimetype": "text/x-python",
   "name": "python",
   "nbconvert_exporter": "python",
   "pygments_lexer": "ipython3",
   "version": "3.7.3"
  }
 },
 "nbformat": 4,
 "nbformat_minor": 2
}
